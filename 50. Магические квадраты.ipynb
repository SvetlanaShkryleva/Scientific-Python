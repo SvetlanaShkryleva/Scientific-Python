{
 "cells": [
  {
   "cell_type": "markdown",
   "id": "b1081742",
   "metadata": {},
   "source": [
    " "
   ]
  },
  {
   "cell_type": "markdown",
   "id": "45bd7d66",
   "metadata": {},
   "source": [
    "## 50. Магические квадраты\n",
    "\n",
    "*Магическим квадратом* порядка $n$ называется квадратная матрица, заполненная числами от $1$ до $n$, такая, что сумма элементов в каждой строке, каждом столбце и на обеих диагоналях есть величина постоянная, равная\n",
    "\\begin{equation}\n",
    "N = \\frac{n(n^2+1)}{2}\\\n",
    "\\end{equation}\n"
   ]
  },
  {
   "cell_type": "code",
   "execution_count": 14,
   "id": "4189950f",
   "metadata": {},
   "outputs": [
    {
     "name": "stdout",
     "output_type": "stream",
     "text": [
      "[[1, 2, 15, 16], [12, 14, 3, 5], [13, 7, 10, 4], [8, 11, 6, 9]]\n"
     ]
    }
   ],
   "source": [
    "def is_complete(board, n):\n",
    "    for i in range(n):\n",
    "        for j in range(n):\n",
    "            if board[i][j] == 0:\n",
    "                return False\n",
    "    return True\n",
    "\n",
    "def find_first_free_cell(board, n):\n",
    "    for i in range(n):\n",
    "        for j in range(n):\n",
    "            if board[i][j] == 0:\n",
    "                return i, j\n",
    "\n",
    "def is_valid(board, n):\n",
    "    numbers = []\n",
    "    magic_constant = int((n * (n**2 + 1))/2)\n",
    "    for i in range(n):\n",
    "        for j in range(n):\n",
    "            if board[i][j] != 0:\n",
    "                if board[i][j] in numbers:\n",
    "                    return False\n",
    "                else:\n",
    "                    numbers.append(board[i][j])\n",
    "              \n",
    "    columns = [list(arr) for arr in zip(*board)]\n",
    "    main_diagonal = [board[i][i] for i in range(len(board))]\n",
    "    side_diagonal = [board[i][len(board) - i - 1] for i in range(len(board))]\n",
    "\n",
    "    for i in range(n):\n",
    "        if 0 not in board[i] and sum(board[i]) != magic_constant:\n",
    "            return False\n",
    "    \n",
    "    for i in range(n):\n",
    "        if 0 not in columns[i] and sum(columns[i]) != magic_constant:\n",
    "            return False\n",
    "    \n",
    "    if 0 not in main_diagonal:\n",
    "        if sum(main_diagonal) != magic_constant:\n",
    "            return False\n",
    "\n",
    "    if 0 not in side_diagonal:\n",
    "        if sum(side_diagonal) != magic_constant:\n",
    "            return False\n",
    "\n",
    "    return True\n",
    "    \n",
    "def back_track(matrix, n):\n",
    "    if is_complete(matrix, n): \n",
    "      return matrix\n",
    "    i, j = find_first_free_cell(matrix, n)\n",
    "    for number in range(1, n**2 + 1):\n",
    "        matrix[i][j] = number\n",
    "        if is_valid(matrix, n):\n",
    "            result = back_track(matrix, n)\n",
    "            if is_complete(result, n):\n",
    "                return result\n",
    "        matrix[i][j] = 0\n",
    "    return matrix\n",
    "\n",
    "n = 4\n",
    "matrix = [[0 for i in range(n)] for j in range(n)]\n",
    "print(back_track(matrix, n))"
   ]
  },
  {
   "cell_type": "markdown",
   "id": "80aa71b9",
   "metadata": {},
   "source": [
    "###  Вывод:\n",
    "Программа выводит магический квадрат $3\\times 3$ за 0 секунд, $4\\times 4$ за 34 секунды."
   ]
  }
 ],
 "metadata": {
  "kernelspec": {
   "display_name": "Python 3 (ipykernel)",
   "language": "python",
   "name": "python3"
  },
  "language_info": {
   "codemirror_mode": {
    "name": "ipython",
    "version": 3
   },
   "file_extension": ".py",
   "mimetype": "text/x-python",
   "name": "python",
   "nbconvert_exporter": "python",
   "pygments_lexer": "ipython3",
   "version": "3.10.9"
  }
 },
 "nbformat": 4,
 "nbformat_minor": 5
}
